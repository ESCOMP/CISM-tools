{
 "cells": [
  {
   "cell_type": "markdown",
   "id": "320acf4b-1f73-4594-a4cc-fcd4d8339d41",
   "metadata": {},
   "source": [
    "# Creating Lat Lon variable for the CISM grid\n",
    "This notebook creates 2D Latitude and Longitude variables from the cartesian grid coordinate of a CISM grid file. The Cartesian grid can be generated using the Jupyter notebook \"Create_input_file_CISM.ipynb\".\n",
    "\n",
    "Author: gunterl@ucar.edu"
   ]
  },
  {
   "cell_type": "code",
   "execution_count": 2,
   "id": "3e5712de-c885-4ee5-a134-4bbf9571fcd9",
   "metadata": {},
   "outputs": [],
   "source": [
    "# Import packages\n",
    "import sys, os\n",
    "sys.path.insert(1, '../lib/')\n",
    "\n",
    "import constants\n",
    "import utils\n",
    "import numpy as np\n",
    "from locate_vectorize import locate\n",
    "from netCDF4 import Dataset\n",
    "from pathlib import Path\n",
    "\n",
    "\n",
    "# to display figures in notebook after executing the code.\n",
    "%matplotlib inline "
   ]
  },
  {
   "cell_type": "code",
   "execution_count": 3,
   "id": "edab9c5b-c1f6-4641-b548-7646dd9e6481",
   "metadata": {},
   "outputs": [],
   "source": [
    "# Configuration\n",
    "IS = 'GrIS'  # Ice sheet for which we are creating the grid\n",
    "res = 4000  # grid resolution (CISM has a uniform grid)\n",
    "str_res = str(res).zfill(5)\n",
    "\n",
    "Rearth = constants.Rearth  # Earth's radius (m)\n",
    "ecc = constants.ecc  # eccentricity\n",
    "\n",
    "# Path and file name of the CISM grid file\n",
    "pathlocal = os.getcwd()\n",
    "grid_path = f\"{pathlocal}/cism_grid/\"\n",
    "grid_file = f\"{grid_path}xy_CISM3_grid_{IS}_{str_res}.nc\"\n",
    "\n",
    "# Destination directory and file name to write the Lat-Lon file. \n",
    "dstDir = f\"{pathlocal}/LatLon/{IS}/\"\n",
    "dstFile = f\"{dstDir}CISM3_initialization_{IS}_{str_res}.LatLon.nc\"\n",
    "\n",
    "# Creating the path where the Lat-Lon file will be written if it does not exist\n",
    "Path(dstDir).mkdir(parents=True, exist_ok=True)"
   ]
  },
  {
   "cell_type": "code",
   "execution_count": 4,
   "id": "399cba67-ecca-4625-924e-a8b25eb10f3c",
   "metadata": {},
   "outputs": [
    {
     "name": "stdout",
     "output_type": "stream",
     "text": [
      "nx1_dst and ny1_dst = 421 721\n",
      "nx0_dst and ny0_dst = 420 720\n"
     ]
    }
   ],
   "source": [
    "# Loading the Cartesian CISM grid data information\n",
    "nid = Dataset(grid_file, 'r')\n",
    "x1_dst = nid.variables['x1'][:]\n",
    "y1_dst = nid.variables['y1'][:]\n",
    "x0_dst = nid.variables['x0'][:]\n",
    "y0_dst = nid.variables['y0'][:]\n",
    "nid.close()\n",
    "\n",
    "nx1_dst = len(x1_dst)\n",
    "ny1_dst = len(y1_dst)\n",
    "nx0_dst = len(x0_dst)\n",
    "ny0_dst = len(y0_dst)\n",
    "\n",
    "print('nx1_dst and ny1_dst =', nx1_dst, ny1_dst)\n",
    "print('nx0_dst and ny0_dst =', nx0_dst, ny0_dst)"
   ]
  },
  {
   "cell_type": "code",
   "execution_count": 5,
   "id": "8479ca1d-9e55-45a0-bfb4-7b6cd5d661fe",
   "metadata": {},
   "outputs": [],
   "source": [
    "# Converting x-y to lat-lon\n",
    "\n",
    "Lat1_2d_dst, Lon1_2d_dst = utils.create_latlon_coord(x1_dst, y1_dst, IS, Rearth, ecc)\n",
    "Lat0_2d_dst, Lon0_2d_dst = utils.create_latlon_coord(x0_dst, y0_dst, IS, Rearth, ecc)"
   ]
  },
  {
   "cell_type": "code",
   "execution_count": 6,
   "id": "3d244a91-61c7-45f6-a421-e59d25d783ad",
   "metadata": {
    "jupyter": {
     "source_hidden": true
    }
   },
   "outputs": [],
   "source": [
    "# print(Lon1_2d_dst[0:10,0])\n",
    "# print(Lon1_2d_dst[0:10,-1])"
   ]
  },
  {
   "cell_type": "code",
   "execution_count": 7,
   "id": "c7a9c306-33c6-4bee-87a2-aa8a053d510e",
   "metadata": {},
   "outputs": [],
   "source": [
    "# Writing the data to file\n",
    "\n",
    "if os.path.isfile(dstFile):\n",
    "    os.remove(dstFile)\n",
    "\n",
    "\n",
    "###############\n",
    "# Output file #\n",
    "###############\n",
    "\n",
    "# Creating the netcdf output file\n",
    "ncfile = Dataset(dstFile, 'w')\n",
    "\n",
    "# Create dimensions\n",
    "ncfile.createDimension('x1', nx1_dst)\n",
    "ncfile.createDimension('y1', ny1_dst)\n",
    "ncfile.createDimension('x0', nx0_dst)\n",
    "ncfile.createDimension('y0', ny0_dst)\n",
    "\n",
    "x1           = ncfile.createVariable('x1','f4',('x1',))\n",
    "x1.long_name = \"Cartesian x-coordinate collocated\"\n",
    "x1.units     = \"m\"\n",
    "x1[:] = x1_dst[:]\n",
    "\n",
    "y1           = ncfile.createVariable('y1','f4',('y1',))\n",
    "y1.long_name = \"Cartesian y-coordinate collocated\"\n",
    "y1.units     = \"m\"\n",
    "y1[:] = y1_dst[:]\n",
    "\n",
    "x0           = ncfile.createVariable('x0','f4',('x0',))\n",
    "x0.long_name = \"Cartesian staggered velocity x-coordinate\"\n",
    "x0.units     = \"m\"\n",
    "x0[:] = x0_dst[:]\n",
    "\n",
    "y0           = ncfile.createVariable('y0','f4',('y0',))\n",
    "y0.long_name = \"Cartesian staggered velocity y-coordinate\"\n",
    "y0.units     = \"m\"\n",
    "y0[:] = y0_dst[:]\n",
    "\n",
    "Lat1           = ncfile.createVariable('Lat1','f4',('y1','x1'))\n",
    "Lat1.long_name = \"Latitude\"\n",
    "Lat1.units     = \"Degree North\"\n",
    "Lat1.comment   = \"Latitude with respect to the thickness grid\"\n",
    "Lat1[:,:] = Lat1_2d_dst[:,:]\n",
    "\n",
    "Lon1           = ncfile.createVariable('Lon1','f4',('y1','x1'))\n",
    "Lon1.long_name = \"Longitude\"\n",
    "Lon1.units     = \"Degree East\"\n",
    "Lon1.comment   = \"Longitude with respect to the thickness grid\"\n",
    "Lon1[:,:] = Lon1_2d_dst[:,:]\n",
    "\n",
    "Lat0           = ncfile.createVariable('Lat0','f4',('y0','x0'))\n",
    "Lat0.long_name = \"Latitude\"\n",
    "Lat0.units     = \"Degree North\"\n",
    "Lat0.comment   = \"Latitude with respect to the velocity grid\"\n",
    "Lat0[:,:] = Lat0_2d_dst[:,:]\n",
    "\n",
    "Lon0           = ncfile.createVariable('Lon0','f4',('y0','x0'))\n",
    "Lon0.long_name = \"Longitude\"\n",
    "Lon0.units     = \"Degree East\"\n",
    "Lon0.comment   = \"Longitude with respect to the velocity grid\"\n",
    "Lon0[:,:] = Lon0_2d_dst[:,:]\n",
    "\n",
    "# Global attributes\n",
    "ncfile.author = 'Gunter Leguy'\n",
    "ncfile.Rearth = f\"{Rearth} (m)\"\n",
    "ncfile.eccentricity = f\"{ecc}\"\n",
    "ncfile.close()"
   ]
  },
  {
   "cell_type": "code",
   "execution_count": null,
   "id": "2bd89c26-7ac5-4494-99ce-0ba3cd76b349",
   "metadata": {},
   "outputs": [],
   "source": [
    "del Lon0_2d_dst, Lat0_2d_dst, Lon1_2d_dst, Lat1_2d_dst, x1_dst, y1_dst, x0_dst, y0_dst"
   ]
  }
 ],
 "metadata": {
  "kernelspec": {
   "display_name": "my-py37-env",
   "language": "python",
   "name": "my-py37-env"
  },
  "language_info": {
   "codemirror_mode": {
    "name": "ipython",
    "version": 3
   },
   "file_extension": ".py",
   "mimetype": "text/x-python",
   "name": "python",
   "nbconvert_exporter": "python",
   "pygments_lexer": "ipython3",
   "version": "3.12.8"
  }
 },
 "nbformat": 4,
 "nbformat_minor": 5
}
