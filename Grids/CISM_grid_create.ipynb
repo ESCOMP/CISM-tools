{
 "cells": [
  {
   "cell_type": "markdown",
   "id": "823cf133-41ff-42c3-8f0e-db5b6a0a84a9",
   "metadata": {},
   "source": [
    "# CISM grid creation \n",
    "This notebook creates a CISM cartesion grid NetCDF file given the end points of the cartesian dimensions. \n",
    "\n",
    "Right now, by default, the grids for the Antarctic and Greenland ice sheets use the same boundaries as those used in the ISMIP6 protocole. \n",
    "\n",
    "Author: gunterl@ucar.edu"
   ]
  },
  {
   "cell_type": "code",
   "execution_count": 7,
   "id": "652cb768-e4a1-4abd-ad94-ae5704806a97",
   "metadata": {},
   "outputs": [],
   "source": [
    "#Import packages\n",
    "import numpy as np      \n",
    "from netCDF4 import Dataset\n",
    "import sys, os\n",
    "from pathlib import Path\n",
    "\n",
    "# to display figures in notebook after executing the code.\n",
    "%matplotlib inline "
   ]
  },
  {
   "cell_type": "code",
   "execution_count": 9,
   "id": "97d4d8a4-e7ac-4a94-83e3-01a46461e90f",
   "metadata": {},
   "outputs": [],
   "source": [
    "# Configuration\n",
    "\n",
    "IS = 'GrIS'  # Ice sheet for which we are creating the grid\n",
    "res = 4000  # grid resolution (m) (CISM has a uniform grid)\n",
    "\n",
    "precision = 'float'  # Numerical precision for storing the data to NetCDF\n",
    "\n",
    "# Defining the file to write the CISM grid NetCDF file\n",
    "pathlocal = os.getcwd()\n",
    "dstPath = f\"{pathlocal}/cism_grid/\"\n",
    "\n",
    "# Creating the path where the Lat-Lon file will be written if it does not exist\n",
    "Path(dstPath).mkdir(parents=True, exist_ok=True)"
   ]
  },
  {
   "cell_type": "code",
   "execution_count": 10,
   "id": "b1572a78-a788-47c9-b101-ec2cfa99ab9f",
   "metadata": {},
   "outputs": [],
   "source": [
    "if IS not in ['AIS', 'GrIS']:\n",
    "    sys.exit(f\"Chose an ice sheet option in the list ['GrIS', 'AIS']\")\n",
    "\n",
    "str_res = str(res).zfill(5)\n",
    "dstFile = dstPath + 'xy_CISM3_grid_' + IS + '_' + str_res + '.nc'\n",
    "\n",
    "if precision in ['float']:\n",
    "    prec = 'f4'\n",
    "elif precision in ['double']:\n",
    "    prec = 'f8'\n",
    "else:\n",
    "    sys.exit(f\"chose a precision in this list ['float', 'double']\")"
   ]
  },
  {
   "cell_type": "code",
   "execution_count": 11,
   "id": "dd04d6fd-259d-40f6-9881-5aef25ab52b8",
   "metadata": {},
   "outputs": [],
   "source": [
    "# Defining the bounds of ISMIP6 domain\n",
    "\n",
    "if IS in ['AIS']:\n",
    "    xs = -3040000\n",
    "    xe = 3040000\n",
    "    ys = -3040000\n",
    "    ye = 3040000\n",
    "\n",
    "if IS in ['GrIS']:\n",
    "    xs = -720000\n",
    "    xe = 960000\n",
    "    ys = -3450000\n",
    "    ye = -570000"
   ]
  },
  {
   "cell_type": "code",
   "execution_count": 12,
   "id": "a4e1c743-c388-43f8-bdcd-1b22716f122a",
   "metadata": {},
   "outputs": [
    {
     "name": "stdout",
     "output_type": "stream",
     "text": [
      "nx1 = 421\n",
      "ny1 = 721\n"
     ]
    }
   ],
   "source": [
    "# Defining the grid\n",
    "\n",
    "nx1 = int((xe-xs)/res + 1)\n",
    "ny1 = int((ye-ys)/res + 1)\n",
    "nx0 = nx1 - 1\n",
    "ny0 = ny1 - 1\n",
    "print('nx1 =', nx1)\n",
    "print('ny1 =', ny1)\n",
    "\n",
    "# Grid for thickness points\n",
    "x1_dst = np.linspace(xs, xe, nx1)\n",
    "y1_dst = np.linspace(ys, ye, ny1)\n",
    "# print('x1 =', x1_dst[-10::])\n",
    "# print('y1 =', y1_dst[-10::])\n",
    "\n",
    "# Grid for velocity points\n",
    "x0_dst = np.linspace(xs+res/2, xe-res/2, nx0)\n",
    "y0_dst = np.linspace(ys+res/2, ye-res/2, ny0)\n",
    "# print('x0 =', x0_dst[-10::])\n",
    "# print('y0 =', y0_dst[-10::])"
   ]
  },
  {
   "cell_type": "code",
   "execution_count": 13,
   "id": "5a03d45f-17e7-4855-ace9-7291296aa61f",
   "metadata": {},
   "outputs": [],
   "source": [
    "# Writing the grid to netCDF file\n",
    "\n",
    "if os.path.isfile(dstFile):\n",
    "    os.remove(dstFile)    \n",
    "\n",
    "ncid = Dataset(dstFile,'w')\n",
    "ncid.createDimension('x1', nx1)\n",
    "ncid.createDimension('y1', ny1)\n",
    "ncid.createDimension('x0', nx0)\n",
    "ncid.createDimension('y0', ny0)\n",
    "\n",
    "x1           = ncid.createVariable('x1',prec,('x1',))\n",
    "x1.long_name = \"Cartesian centered thickness x-coordinate\"\n",
    "x1.units     = \"m\"\n",
    "x1[:] = x1_dst[:]\n",
    "\n",
    "y1           = ncid.createVariable('y1',prec,('y1',))\n",
    "y1.long_name = \"Cartesian centered thickness y-coordinate\"\n",
    "y1.units     = \"m\"\n",
    "y1[:] = y1_dst[:]\n",
    "\n",
    "x0           = ncid.createVariable('x0',prec,('x0',))\n",
    "x0.long_name = \"Cartesian x-coordinate, velocity grid\"\n",
    "x0.units     = \"m\"\n",
    "x0[:] = x0_dst[:]\n",
    "\n",
    "y0           = ncid.createVariable('y0',prec,('y0',))\n",
    "y0.long_name = \"Cartesian y-coordinate, velocity grid\"\n",
    "y0.units     = \"m\"\n",
    "y0[:] = y0_dst[:]\n",
    "\n",
    "ncid.close()"
   ]
  }
 ],
 "metadata": {
  "kernelspec": {
   "display_name": "my-py37-env",
   "language": "python",
   "name": "my-py37-env"
  },
  "language_info": {
   "codemirror_mode": {
    "name": "ipython",
    "version": 3
   },
   "file_extension": ".py",
   "mimetype": "text/x-python",
   "name": "python",
   "nbconvert_exporter": "python",
   "pygments_lexer": "ipython3",
   "version": "3.12.8"
  }
 },
 "nbformat": 4,
 "nbformat_minor": 5
}
